{
 "cells": [
  {
   "cell_type": "code",
   "execution_count": null,
   "metadata": {},
   "outputs": [],
   "source": [
    "%matplotlib inline\n",
    "#%pylab\n",
    "import matplotlib\n",
    "import matplotlib.pyplot as plt\n",
    "import matplotlib.colors as mpc\n",
    "import matplotlib.dates as dts\n",
    "import numpy as np\n",
    "import pandas as pd\n",
    "import itertools\n",
    "import os\n",
    "import datetime\n",
    "from scipy.optimize import curve_fit\n",
    "from scipy.misc import factorial"
   ]
  },
  {
   "cell_type": "code",
   "execution_count": null,
   "metadata": {},
   "outputs": [],
   "source": [
    "from ELOSS import *"
   ]
  },
  {
   "cell_type": "code",
   "execution_count": null,
   "metadata": {},
   "outputs": [],
   "source": [
    "def Range(KE, mass, dx):\n",
    "    dist = 0.0\n",
    "    while KE > 0.1:\n",
    "        # print 'star KE : %.02f'%KE\n",
    "        eloss = rho * dedx(KE, mass, dens=True)\n",
    "        KE -= eloss * dx\n",
    "        dist += dx\n",
    "        # print 'KE : %.02f dEdx : %.02f distance : %.02f'%(KE,eloss,dist)\n",
    "    return dist"
   ]
  },
  {
   "cell_type": "code",
   "execution_count": null,
   "metadata": {},
   "outputs": [],
   "source": [
    "def KE_from_Range(R, mass, stepmax):\n",
    "    KE = 0.3  # MeV\n",
    "    dist = 0.0\n",
    "    thisstep = 1e-3\n",
    "    while (dist + thisstep) < R:\n",
    "        eloss = rho * dedx(KE, mass, dens=True)\n",
    "        # print 'step: %.03f dEdx at KE %.02f is %.02f. Total dist : %.03f'%(thisstep,KE,eloss,dist)\n",
    "        KE += eloss * thisstep\n",
    "        dist += thisstep\n",
    "        # update step size in an efficient way\n",
    "        if (thisstep < dist / 10.0) and (dist / 10.0 < stepmax):\n",
    "            thisstep = dist / 10.0\n",
    "    return KE"
   ]
  },
  {
   "cell_type": "code",
   "execution_count": null,
   "metadata": {},
   "outputs": [],
   "source": [
    "def dEdx_from_Range(R, mass, stepmax, pitch):\n",
    "    KE = 0.3  # MeV\n",
    "    dist = 0.0\n",
    "    thisstep = 1e-3\n",
    "    while (dist + thisstep) < R:\n",
    "        eloss = rho * dedx(KE, mass, dens=True)\n",
    "        # print 'step: %.03f dEdx at KE %.02f is %.02f. Total dist : %.03f'%(thisstep,KE,eloss,dist)\n",
    "        KE += eloss * thisstep\n",
    "        dist += thisstep\n",
    "        # update step size in an efficient way\n",
    "        if (thisstep < dist / 10.0) and (dist / 10.0 < stepmax):\n",
    "            thisstep = dist / 10.0\n",
    "    return dpdx(KE, pitch, mass)"
   ]
  },
  {
   "cell_type": "code",
   "execution_count": null,
   "metadata": {},
   "outputs": [],
   "source": [
    "STEP = 0.1  # in cm\n",
    "MASS = 938.272  # MeV"
   ]
  },
  {
   "cell_type": "code",
   "execution_count": null,
   "metadata": {
    "scrolled": true
   },
   "outputs": [],
   "source": [
    "KE = 70.\n",
    "print Range(KE,MASS,STEP)\n",
    "print KE_from_Range(Range(KE,MASS,STEP),MASS,STEP)"
   ]
  },
  {
   "cell_type": "code",
   "execution_count": null,
   "metadata": {
    "scrolled": true
   },
   "outputs": [],
   "source": [
    "# range from KE\n",
    "range_v = []\n",
    "KE_v = np.linspace(5, 500, 100)\n",
    "dedx_v = []\n",
    "for KE in KE_v:\n",
    "    range_v.append(Range(KE, MASS, STEP))\n",
    "    dedx_v.append(rho * dedx(KE, MASS, dens=True))\n",
    "\n",
    "# KE from range\n",
    "KEfromR_v = []\n",
    "for R in range_v:\n",
    "    # print 'range : %.02f'%R\n",
    "    KEv = KE_from_Range(R, MASS, STEP)\n",
    "    # print 'KE : %.02f'%KEv\n",
    "    KEfromR_v.append(KEv)"
   ]
  },
  {
   "cell_type": "code",
   "execution_count": null,
   "metadata": {},
   "outputs": [],
   "source": [
    "# LArSoft implementation\n",
    "KE2_v = []\n",
    "for r in range_v:\n",
    "    KE2_v.append(29.9317 * (r ** 0.586304))"
   ]
  },
  {
   "cell_type": "code",
   "execution_count": null,
   "metadata": {},
   "outputs": [],
   "source": [
    "matplotlib.rcParams.update({\"font.size\": 16})"
   ]
  },
  {
   "cell_type": "code",
   "execution_count": null,
   "metadata": {},
   "outputs": [],
   "source": [
    "fig = plt.figure(figsize=(6, 6))\n",
    "plt.plot(range_v, KE_v, label=\"ELOSS code\")\n",
    "plt.plot(range_v, KEfromR_v, label=\"ELOSS code [inverse]\")\n",
    "plt.plot(range_v, KE2_v, label=\"LArSoft\")\n",
    "plt.xlim([0, 80])\n",
    "plt.ylim([0, 500])\n",
    "plt.legend()\n",
    "plt.xlabel(\"Range [cm]\")\n",
    "plt.ylabel(\"KE [MeV]\")\n",
    "plt.title(\"Protons\")\n",
    "plt.show()\n",
    "\n",
    "fig = plt.figure(figsize=(6, 6))\n",
    "plt.plot(range_v, 100.0 * (KE_v - KE2_v) / KE_v, label=\"[ELOSS - LArSoft]/ELOSS\")\n",
    "plt.plot(\n",
    "    range_v, 100.0 * (KE_v - KEfromR_v) / KE_v, label=\"[ELOSS - ELOSS inverse]/ELOSS\"\n",
    ")\n",
    "# plt.plot(range_v,KE2_v,label='LArSoft')\n",
    "plt.xlim([0, 80])\n",
    "plt.ylim([-10, 10])\n",
    "plt.legend()\n",
    "plt.xlabel(\"Range [cm]\")\n",
    "plt.ylabel(\" %\")\n",
    "# plt.title('Protons')\n",
    "plt.show()"
   ]
  },
  {
   "cell_type": "code",
   "execution_count": null,
   "metadata": {},
   "outputs": [],
   "source": [
    "PITCH = 0.3\n",
    "\n",
    "range_v = np.linspace(0.01, 70, 100)\n",
    "dEdx_v = []\n",
    "for R in range_v:\n",
    "    dEdx_v.append(dEdx_from_Range(R, MASS, STEP, PITCH))"
   ]
  },
  {
   "cell_type": "code",
   "execution_count": null,
   "metadata": {},
   "outputs": [],
   "source": [
    "fig = plt.figure(figsize=(6, 6))\n",
    "plt.plot(range_v, dEdx_v, label=\"pitch: %.02f cm\" % PITCH)\n",
    "plt.xlim([0, 80])\n",
    "plt.ylim([0, 20])\n",
    "plt.legend()\n",
    "plt.xlabel(\"Range [cm]\")\n",
    "plt.ylabel(\"MPV dE/dx [MeV/cm]\")\n",
    "plt.title(\"Protons\")\n",
    "plt.xlim([0, 70])\n",
    "plt.ylim([0, 20])\n",
    "plt.show()"
   ]
  }
 ],
 "metadata": {
  "kernelspec": {
   "display_name": "Python 2",
   "language": "python",
   "name": "python2"
  },
  "language_info": {
   "codemirror_mode": {
    "name": "ipython",
    "version": 2
   },
   "file_extension": ".py",
   "mimetype": "text/x-python",
   "name": "python",
   "nbconvert_exporter": "python",
   "pygments_lexer": "ipython2",
   "version": "2.7.17"
  }
 },
 "nbformat": 4,
 "nbformat_minor": 1
}
