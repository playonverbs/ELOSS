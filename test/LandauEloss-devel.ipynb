{
 "cells": [
  {
   "cell_type": "code",
   "execution_count": null,
   "metadata": {},
   "outputs": [],
   "source": [
    "%matplotlib inline\n",
    "#%pylab\n",
    "import matplotlib\n",
    "import matplotlib.pyplot as plt\n",
    "import matplotlib.colors as mpc\n",
    "import matplotlib.dates as dts\n",
    "import numpy as np\n",
    "import pandas as pd\n",
    "import itertools\n",
    "import os\n",
    "import datetime\n",
    "from scipy.optimize import curve_fit\n",
    "from scipy.misc import factorial\n",
    "\n",
    "plt.rcParams.update({\"font.size\": 18})"
   ]
  },
  {
   "cell_type": "code",
   "execution_count": null,
   "metadata": {},
   "outputs": [],
   "source": [
    "from ELOSS import *"
   ]
  },
  {
   "cell_type": "code",
   "execution_count": null,
   "metadata": {},
   "outputs": [],
   "source": [
    "KEvals = np.linspace(10.0, 100000.0, 10000)\n",
    "dpvals04 = []\n",
    "dpvals03 = []\n",
    "dpvals05 = []\n",
    "dpvals30 = []\n",
    "dedxvals = []\n",
    "\n",
    "dpsmall = []\n",
    "\n",
    "x = 0.49  # cm\n",
    "\n",
    "for KE in KEvals:\n",
    "    dpvals04.append(dpdx(KE, 0.4, Mmu))\n",
    "    dpvals05.append(dpdx(KE, 0.5, Mmu))\n",
    "    dpvals03.append(dpdx(KE, 0.3, Mmu))\n",
    "    dpvals30.append(dpdx(KE, 3.0, Mmu))\n",
    "    dpsmall.append(dpdx(KE, 0.03, Mmu))\n",
    "    dedxvals.append(rho * dedx(KE, Mmu, dens=True))"
   ]
  },
  {
   "cell_type": "code",
   "execution_count": null,
   "metadata": {},
   "outputs": [],
   "source": [
    "fig = plt.figure(figsize=(6, 6))\n",
    "plt.plot(KEvals, dpvals05, \"-\", color=\"b\", lw=3, label=\"$\\Delta p/dx$ @ 0.5 cm\")\n",
    "plt.plot(KEvals, dpvals03, \"--\", color=\"b\", lw=3, label=\"$\\Delta p/dx$ @ 0.3 cm\")\n",
    "plt.plot(KEvals, dpvals30, \"-.\", color=\"b\", lw=3, label=\"$\\Delta p/dx$ @ 3.0 cm\")\n",
    "plt.plot(KEvals, dedxvals, color=\"r\", lw=2, label=\"$<dE/dx>$\")\n",
    "plt.grid(which=\"both\")\n",
    "plt.xlabel(\"Muon Kinetic Energy [MeV]\", fontsize=16, fontweight=\"bold\")\n",
    "plt.ylabel(\"MeV/cm\", fontsize=16, fontweight=\"bold\")\n",
    "# plt.ylim([1.75,1.85])\n",
    "plt.ylim([1.45, 3.12])\n",
    "plt.legend(loc=1, fontsize=16)\n",
    "plt.xlim([50, 100000])\n",
    "plt.xscale(\"log\")\n",
    "plt.title(\"Collision Stopping Power for $\\mu$ in LAr\", fontsize=16, fontweight=\"bold\")\n",
    "plt.show()"
   ]
  }
 ],
 "metadata": {
  "kernelspec": {
   "display_name": "Python 2",
   "language": "python",
   "name": "python2"
  },
  "language_info": {
   "codemirror_mode": {
    "name": "ipython",
    "version": 2
   },
   "file_extension": ".py",
   "mimetype": "text/x-python",
   "name": "python",
   "nbconvert_exporter": "python",
   "pygments_lexer": "ipython2",
   "version": "2.7.15rc1"
  }
 },
 "nbformat": 4,
 "nbformat_minor": 1
}
